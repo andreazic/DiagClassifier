{
 "cells": [
  {
   "cell_type": "markdown",
   "metadata": {},
   "source": [
    "### Imports"
   ]
  },
  {
   "cell_type": "code",
   "execution_count": 1,
   "metadata": {},
   "outputs": [],
   "source": [
    "import cv2\n",
    "import statistics\n",
    "import pandas as pd\n",
    "import numpy as np\n",
    "import matplotlib.pyplot as plt"
   ]
  },
  {
   "cell_type": "markdown",
   "metadata": {},
   "source": [
    "## Useful Functions"
   ]
  },
  {
   "cell_type": "code",
   "execution_count": 2,
   "metadata": {},
   "outputs": [],
   "source": [
    "# Clears alpha channel from png images\n",
    "def clearAlphaChannel(img):\n",
    "    trans_mask = img[:,:,3] == 0\n",
    "    img[trans_mask] = [255, 255, 255, 255]\n",
    "    new_img = cv2.cvtColor(img, cv2.COLOR_BGRA2BGR)\n",
    "    return new_img"
   ]
  },
  {
   "cell_type": "code",
   "execution_count": 3,
   "metadata": {},
   "outputs": [],
   "source": [
    "# Splits a list of couple in 2 different list and append in both list in result\n",
    "def splitCouple(coupleList):\n",
    "    result = []\n",
    "    for couple in coupleList:\n",
    "        fstList, sndList = list(map(list, zip(*couple)))\n",
    "        result.append(fstList)\n",
    "        result.append(sndList)\n",
    "    return result"
   ]
  },
  {
   "cell_type": "code",
   "execution_count": 4,
   "metadata": {},
   "outputs": [],
   "source": [
    "# Returns area of a rectangle object\n",
    "def getArea(rectangle):\n",
    "    return rectangle[4]"
   ]
  },
  {
   "cell_type": "code",
   "execution_count": 5,
   "metadata": {},
   "outputs": [],
   "source": [
    "# Binary split of the gray image\n",
    "def thresholding(img):\n",
    "    img_gray = cv2.cvtColor(img,cv2.COLOR_BGR2GRAY)\n",
    "    ret,thresh = cv2.threshold(img_gray,80,255,cv2.THRESH_BINARY_INV)\n",
    "    return thresh"
   ]
  },
  {
   "cell_type": "code",
   "execution_count": 6,
   "metadata": {},
   "outputs": [],
   "source": [
    "# Resize image \n",
    "def imgResize(img, size):\n",
    "    imgResult = cv2.cvtColor(img, cv2.COLOR_BGR2RGB)\n",
    "    h, w, c = imgResult.shape\n",
    "    if w > size:\n",
    "        new_w = 1000\n",
    "        ar = w/h\n",
    "        new_h = int(new_w/ar)\n",
    "        imgResult = cv2.resize(imgResult, (new_w, new_h), interpolation = cv2.INTER_AREA)\n",
    "    return imgResult"
   ]
  },
  {
   "cell_type": "code",
   "execution_count": 7,
   "metadata": {},
   "outputs": [],
   "source": [
    "def lineSegmentation(img):\n",
    "    kernel = np.ones((3,85), np.uint8)\n",
    "    dilated = cv2.dilate(thresholding(img), kernel, iterations = 1)\n",
    "    (contours, heirarchy) = cv2.findContours(dilated.copy(), cv2.RETR_EXTERNAL, cv2.CHAIN_APPROX_NONE)\n",
    "    sorted_contours_lines = sorted(contours, key = lambda ctr : cv2.boundingRect(ctr)[1]) # (x, y, w, h)\n",
    "    lineCount = 0\n",
    "    for ctr in sorted_contours_lines:\n",
    "        x,y,w,h = cv2.boundingRect(ctr)\n",
    "        cv2.rectangle(img, (x,y), (x+w, y+h), (40, 100, 250), 2)\n",
    "        lineCount += 1\n",
    "    return lineCount"
   ]
  },
  {
   "cell_type": "code",
   "execution_count": 14,
   "metadata": {},
   "outputs": [],
   "source": [
    "def lineSegmentationAndSave(img, session):\n",
    "    kernel = np.ones((3,85), np.uint8)\n",
    "    dilated = cv2.dilate(thresholding(img), kernel, iterations = 1)\n",
    "    (contours, heirarchy) = cv2.findContours(dilated.copy(), cv2.RETR_EXTERNAL, cv2.CHAIN_APPROX_NONE)\n",
    "    sorted_contours_lines = sorted(contours, key = lambda ctr : cv2.boundingRect(ctr)[1]) # (x, y, w, h)\n",
    "    lineCount = 0\n",
    "    for ctr in sorted_contours_lines:\n",
    "        x,y,w,h = cv2.boundingRect(ctr)\n",
    "        cv2.rectangle(img, (x,y), (x+w, y+h), (255, 255, 255), 2)\n",
    "        roi = img[y:y+h, x:x+w]\n",
    "        cv2.imwrite(\"Lines/Session\" + str(session) + \"Line\" +  str(lineCount) + \".png\", roi)\n",
    "        lineCount += 1"
   ]
  },
  {
   "cell_type": "code",
   "execution_count": 9,
   "metadata": {},
   "outputs": [],
   "source": [
    "def textSegmentation(img, session, df):\n",
    "    result = pd.DataFrame(columns=['Session','Line','wordAx','wordAy','wordBx','wordBy'])\n",
    "    words_list = []\n",
    "    box_list = []\n",
    "    lineNumber = 1\n",
    "    kernel = np.ones((3,85), np.uint8)\n",
    "    dilated = cv2.dilate(thresholding(img), kernel, iterations = 1)\n",
    "    (contours, heirarchy) = cv2.findContours(dilated.copy(), cv2.RETR_EXTERNAL, cv2.CHAIN_APPROX_NONE)\n",
    "    sorted_contours_lines = sorted(contours, key = lambda ctr : cv2.boundingRect(ctr)[1]) # (x, y, w, h)\n",
    "\n",
    "    kernel = np.ones((3,15), np.uint8)\n",
    "    dilated = cv2.dilate(thresholding(img), kernel, iterations = 1)\n",
    "\n",
    "    for line in sorted_contours_lines:\n",
    "        # roi of each line\n",
    "        x, y, w, h = cv2.boundingRect(line)\n",
    "        roi_line = dilated[y:y+w, x:x+w]\n",
    "        # draw contours on each word\n",
    "        (cnt, heirarchy) = cv2.findContours(roi_line.copy(), cv2.RETR_EXTERNAL, cv2.CHAIN_APPROX_NONE)\n",
    "        sorted_contour_words = sorted(cnt, key=lambda cntr : cv2.boundingRect(cntr)[0])\n",
    "        for word in sorted_contour_words:\n",
    "            x2, y2, w2, h2 = cv2.boundingRect(word)\n",
    "            if w2*h2 > 500 and [x+x2, y+y2, x+x2+w2, y+y2+h2, w2*h2, lineNumber, y] not in words_list and y+y2>=y and y+y2+h2<=y+h:\n",
    "                words_list.append([x+x2, y+y2, x+x2+w2, y+y2+h2, w2*h2, lineNumber, y])\n",
    "        lineNumber += 1\n",
    "\n",
    "    words_list.sort(key=getArea, reverse=True)\n",
    "    for word in words_list:\n",
    "        overlap = 1\n",
    "        for new_word in words_list:\n",
    "            if word[0]>=new_word[0] and word[1]>=new_word[1] and word[2]<=new_word[2] and word[3]<=new_word[3] and word[4]!=new_word[4]:\n",
    "                overlap = 0\n",
    "                break\n",
    "        if overlap:\n",
    "            box_list.append(word)\n",
    "            data = pd.DataFrame({'Session':session,'Line':word[5], 'wordAx':word[0],'wordAy':word[1],'wordBx':word[2],'wordBy':word[3]}, index=[0])\n",
    "            result = pd.concat([result, data], ignore_index=True)    \n",
    "\n",
    "    for word in box_list:\n",
    "        if word[5]==1:\n",
    "            cv2.rectangle(img, (word[0], word[1]), (word[2],word[3]), (255,0,0), 2)\n",
    "        if word[5]==2:\n",
    "            cv2.rectangle(img, (word[0], word[1]), (word[2],word[3]), (0,255,0), 2)\n",
    "        if word[5]==3:\n",
    "            cv2.rectangle(img, (word[0], word[1]), (word[2],word[3]), (0,0,255), 2)\n",
    "        if word[5]==4:\n",
    "            cv2.rectangle(img, (word[0], word[1]), (word[2],word[3]), (255,0,255), 2)\n",
    "        if word[5]==5:\n",
    "            cv2.rectangle(img, (word[0], word[1]), (word[2],word[3]), (255,255,0), 2)\n",
    "        if word[5]==6:\n",
    "            cv2.rectangle(img, (word[0], word[1]), (word[2],word[3]), (0,255,255), 2)\n",
    "        if word[5]==7:\n",
    "            cv2.rectangle(img, (word[0], word[1]), (word[2],word[3]), (127,0,127), 2)\n",
    "        if word[5]==8:\n",
    "            cv2.rectangle(img, (word[0], word[1]), (word[2],word[3]), (0,127,127), 2)\n",
    "\n",
    "    df[result.columns] = result\n",
    "    return len(box_list)"
   ]
  },
  {
   "cell_type": "code",
   "execution_count": 10,
   "metadata": {},
   "outputs": [],
   "source": [
    "def extractLineFeature(session, height, width, posX, posY, interX, interY, overlap, df):\n",
    "    dfs = df.loc[df['Session'] == session]\n",
    "    posXList = [] #solo per il primo box della linea, quindi valore unico per Linea\n",
    "    interSpaceYList=[]\n",
    "    for line in range(1, 9):\n",
    "        dfl = dfs.loc[dfs['Line'] == line]\n",
    "        heightList=[]\n",
    "        widthList=[]\n",
    "        posYList=[]\n",
    "        interCoupleX=[]\n",
    "        interSpaceX=[]\n",
    "        interCoupleY=[]\n",
    "        overlapCheck=0\n",
    "        interA=0\n",
    "        interB=0\n",
    "        for ind in dfl.index:\n",
    "            heightList.append(dfl['wordBy'][ind]-dfl['wordAy'][ind])\n",
    "            widthList.append(dfl['wordBx'][ind]-dfl['wordAx'][ind])\n",
    "            posYList.append(dfl['wordAy'][ind])\n",
    "            posXList.append(dfl['wordAx'][ind])\n",
    "            interCoupleX.append([dfl['wordAx'][ind],dfl['wordBx'][ind]])\n",
    "            interCoupleY.append([dfl['wordAy'][ind],dfl['wordBy'][ind]])\n",
    "#Height\n",
    "        meanHeight=statistics.mean(heightList)\n",
    "        stdHeight=np.std(heightList)\n",
    "#Width\n",
    "        meanWidth=statistics.mean(widthList)\n",
    "        stdWidth=np.std(widthList)\n",
    "#PosY(Andamento Linea)\n",
    "        meanPosY=statistics.mean(posYList)\n",
    "        stdPosY=np.std(posYList)\n",
    "\n",
    "#InterSpaceX\n",
    "        meanInterSpaceX = 0\n",
    "        stdInterSpaceX = 0\n",
    "        if len(interCoupleX)>1:\n",
    "                interCoupleX.sort()\n",
    "                for i in range(len(interCoupleX)-1):\n",
    "                        interSpaceX.append(interCoupleX[i+1][0]-interCoupleX[i][1])\n",
    "                        if interCoupleX[i+1][0]<interCoupleX[i][1]:\n",
    "                                overlapCheck=1\n",
    "                meanInterSpaceX=statistics.mean(interSpaceX)\n",
    "                stdInterSpaceX=np.std(interSpaceX)\n",
    "\n",
    "#PosX(posizione iniziale da dove inizio a scrivere sul asse X)\n",
    "        minPosX=min(posXList)\n",
    "\n",
    "#InterSpaceY(Distanza tra linee in altezza)\n",
    "        listA, listB = list(map(list, zip(*interCoupleY)))\n",
    "        interA=min(listA)\n",
    "        interB=max(listB)\n",
    "\n",
    "#Inserimento nelle liste\n",
    "        height[line-1].append((meanHeight, stdHeight))\n",
    "        width[line-1].append((meanWidth, stdWidth))\n",
    "        posY[line-1].append((meanPosY, stdPosY))\n",
    "        interX[line-1].append((meanInterSpaceX, stdInterSpaceX))\n",
    "        overlap[line-1].append(overlapCheck)\n",
    "        posXList.append(minPosX)\n",
    "        interSpaceYList.append((interA,interB))\n",
    "\n",
    "    meanPosX=statistics.mean(posXList)\n",
    "    stdPosX=np.std(posXList)\n",
    "\n",
    "    interSpaceY=[]\n",
    "    for i in range(len(interSpaceYList)-1):\n",
    "            interSpaceY.append(interSpaceYList[i+1][1]-interSpaceYList[i][0])\n",
    "    meanInterY=statistics.mean(interSpaceY)\n",
    "    stdInterY=np.std(interSpaceY)\n",
    "\n",
    "    posX.append((meanPosX, stdPosX))\n",
    "    interY.append((meanInterY, stdInterY))"
   ]
  },
  {
   "cell_type": "code",
   "execution_count": 11,
   "metadata": {},
   "outputs": [],
   "source": [
    "def addLineFeature(heigth, width, posX, posY, interX, interY, overlap, df):\n",
    "    wordHeightFeature = splitCouple(height)\n",
    "    wordWidthFeature = splitCouple(width)\n",
    "    yLineTrendFeature = splitCouple(posY)\n",
    "    wordDistanceFeature = splitCouple(interX)\n",
    "    for i in range(2, 17, 2):\n",
    "        df[\"meanWordHeightLine\" + str(int(i/2))] = wordHeightFeature[i-2]\n",
    "        df[\"stdWordHeightLine\" +str(int(i/2))] = wordHeightFeature[i-1]\n",
    "        df[\"meanWordWidthLine\" + str(int(i/2))] = wordWidthFeature[i-2]\n",
    "        df[\"stdWordWidthLine\" +str(int(i/2))] = wordWidthFeature[i-1]\n",
    "        df[\"meanYLineTrendLine\" + str(int(i/2))] = yLineTrendFeature[i-2]\n",
    "        df[\"stdYLineTrendLine\" +str(int(i/2))] = yLineTrendFeature[i-1]\n",
    "        df[\"meanWordDistanceLine\" + str(int(i/2))] = wordDistanceFeature[i-2]\n",
    "        df[\"stdWordDistanceLine\" +str(int(i/2))] = wordDistanceFeature[i-1]\n",
    "\n",
    "    for i in range(1, 9):\n",
    "        df[\"overlappedWordLine\" + str(i)] = overlap[i-1]\n",
    "\n",
    "    meanPosXLineStart, stdPosXLineStart = list(map(list, zip(*posX)))\n",
    "    df[\"meanPosXLineStart\"] = meanPosXLineStart\n",
    "    df[\"stdPosXLineStart\"] = stdPosXLineStart\n",
    "\n",
    "    meanLineDistance, stdLineDistance = list(map(list, zip(*interY)))\n",
    "    df[\"meanLineDistance\"] = meanLineDistance\n",
    "    df[\"stdLineDistance\"] = stdLineDistance"
   ]
  },
  {
   "cell_type": "code",
   "execution_count": 12,
   "metadata": {},
   "outputs": [],
   "source": [
    "def imageTranslation(session, folderName, hDirection, vDirection):\n",
    "    img = cv2.imread(\"Paintings/row\" + str(session) + \".png\", cv2.IMREAD_UNCHANGED)\n",
    "    img = clearAlphaChannel(img)\n",
    "    img = imgResize(img, 1000)\n",
    "        \n",
    "    height, width = img.shape[:2]\n",
    "\n",
    "    T = np.float32([[1, 0, hDirection], [0, 1, vDirection]])\n",
    "\n",
    "    img_translation = cv2.warpAffine(img, T, (width, height), borderValue=(255,255,255))\n",
    "        \n",
    "    cv2.imwrite(\"TranslatedPaintings/\" + folderName + \"/row\" + str(session) + \".png\", img_translation)"
   ]
  },
  {
   "cell_type": "markdown",
   "metadata": {},
   "source": [
    "## Image Preprocess"
   ]
  },
  {
   "cell_type": "code",
   "execution_count": 12,
   "metadata": {},
   "outputs": [
    {
     "data": {
      "text/plain": [
       "<matplotlib.image.AxesImage at 0x21c281d6c20>"
      ]
     },
     "execution_count": 12,
     "metadata": {},
     "output_type": "execute_result"
    },
    {
     "data": {
      "image/png": "[encoded data removed]",
      "text/plain": [
       "<Figure size 432x288 with 1 Axes>"
      ]
     },
     "metadata": {
      "needs_background": "light"
     },
     "output_type": "display_data"
    }
   ],
   "source": [
    "img = cv2.imread(\"Paintings/row0.png\", cv2.IMREAD_UNCHANGED)\n",
    "plt.imshow(img)"
   ]
  },
  {
   "cell_type": "markdown",
   "metadata": {},
   "source": [
    "#### 1 - Clear alpha channel from the image"
   ]
  },
  {
   "cell_type": "code",
   "execution_count": 13,
   "metadata": {},
   "outputs": [
    {
     "data": {
      "text/plain": [
       "<matplotlib.image.AxesImage at 0x21c28549240>"
      ]
     },
     "execution_count": 13,
     "metadata": {},
     "output_type": "execute_result"
    },
    {
     "data": {
      "image/png": "[encoded data removed]",
      "text/plain": [
       "<Figure size 432x288 with 1 Axes>"
      ]
     },
     "metadata": {
      "needs_background": "light"
     },
     "output_type": "display_data"
    }
   ],
   "source": [
    "img = clearAlphaChannel(img)\n",
    "plt.imshow(img)"
   ]
  },
  {
   "cell_type": "markdown",
   "metadata": {},
   "source": [
    "#### 2 - Resizing image"
   ]
  },
  {
   "cell_type": "code",
   "execution_count": 14,
   "metadata": {},
   "outputs": [
    {
     "data": {
      "text/plain": [
       "<matplotlib.image.AxesImage at 0x21c285b9cf0>"
      ]
     },
     "execution_count": 14,
     "metadata": {},
     "output_type": "execute_result"
    },
    {
     "data": {
      "image/png": "[encoded data removed]",
      "text/plain": [
       "<Figure size 432x288 with 1 Axes>"
      ]
     },
     "metadata": {
      "needs_background": "light"
     },
     "output_type": "display_data"
    }
   ],
   "source": [
    "img = imgResize(img, 1000)\n",
    "plt.imshow(img)"
   ]
  },
  {
   "cell_type": "markdown",
   "metadata": {},
   "source": [
    "#### 3 - Line segmentation"
   ]
  },
  {
   "cell_type": "code",
   "execution_count": 15,
   "metadata": {},
   "outputs": [
    {
     "data": {
      "text/plain": [
       "<matplotlib.image.AxesImage at 0x21c285ff0a0>"
      ]
     },
     "execution_count": 15,
     "metadata": {},
     "output_type": "execute_result"
    },
    {
     "data": {
      "image/png": "[encoded data removed]",
      "text/plain": [
       "<Figure size 432x288 with 1 Axes>"
      ]
     },
     "metadata": {
      "needs_background": "light"
     },
     "output_type": "display_data"
    }
   ],
   "source": [
    "img2 = img.copy()\n",
    "lineSegmentation(img2)   \n",
    "plt.imshow(img2)"
   ]
  },
  {
   "cell_type": "markdown",
   "metadata": {},
   "source": [
    "#### 4 - Text segmentation"
   ]
  },
  {
   "cell_type": "code",
   "execution_count": 16,
   "metadata": {},
   "outputs": [
    {
     "data": {
      "text/plain": [
       "<matplotlib.image.AxesImage at 0x21c28a8a830>"
      ]
     },
     "execution_count": 16,
     "metadata": {},
     "output_type": "execute_result"
    },
    {
     "data": {
      "image/png": "[encoded data removed]",
      "text/plain": [
       "<Figure size 432x288 with 1 Axes>"
      ]
     },
     "metadata": {
      "needs_background": "light"
     },
     "output_type": "display_data"
    }
   ],
   "source": [
    "prova = pd.DataFrame(columns=['Session','Line','wordAx','wordAy','wordBx','wordBy'])\n",
    "\n",
    "img3 = img.copy()\n",
    "textSegmentation(img3, 0, prova)   \n",
    "plt.imshow(img3)"
   ]
  },
  {
   "cell_type": "markdown",
   "metadata": {},
   "source": [
    "  ## Preprocessing all images in the dataset"
   ]
  },
  {
   "cell_type": "code",
   "execution_count": 17,
   "metadata": {},
   "outputs": [],
   "source": [
    " # Df to store every words in the dataset\n",
    "words_df = pd.DataFrame(columns=['Session','Line','wordAx','wordAy','wordBx','wordBy'])\n",
    "\n",
    "sessionLines  = []\n",
    "sessionWords = []\n",
    "\n",
    "#Final Features\n",
    "height = [[], [], [], [], [], [], [], []]\n",
    "width = [[], [], [], [], [], [], [], []]\n",
    "posX = []\n",
    "posY = [[], [], [], [], [], [], [], []]\n",
    "interX = [[], [], [], [], [], [], [], []]\n",
    "interY = []\n",
    "overlap = [[], [], [], [], [], [], [], []]\n",
    "\n",
    "for i in range(120):\n",
    "    img = cv2.imread(\"Paintings/row\" + str(i) + \".png\", cv2.IMREAD_UNCHANGED)\n",
    "    img = clearAlphaChannel(img)\n",
    "    img = imgResize(img, 1000)\n",
    "    img2 = img.copy()\n",
    "    sessionLines.append(lineSegmentation(img2))\n",
    "    img3 = img.copy()\n",
    "    sessionWords.append(textSegmentation(img3, i, words_df))\n",
    "    extractLineFeature(i, height, width, posX, posY, interX, interY, overlap, words_df)\n",
    "\n",
    "# Save updated dataset\n",
    "words_df.to_csv('WordsDatasets/wordsDataset.csv', index=False)"
   ]
  },
  {
   "cell_type": "markdown",
   "metadata": {},
   "source": [
    "  ## Saving boxed images"
   ]
  },
  {
   "cell_type": "code",
   "execution_count": 16,
   "metadata": {},
   "outputs": [],
   "source": [
    "for i in range(120):\n",
    "    img = cv2.imread(\"Paintings/row\" + str(i) + \".png\", cv2.IMREAD_UNCHANGED)\n",
    "    img = clearAlphaChannel(img)\n",
    "    img = imgResize(img, 1000)\n",
    "    img2 = img.copy()\n",
    "    lineSegmentationAndSave(img2, i)\n"
   ]
  },
  {
   "cell_type": "markdown",
   "metadata": {},
   "source": [
    "## OpenCV dataset"
   ]
  },
  {
   "cell_type": "code",
   "execution_count": 18,
   "metadata": {},
   "outputs": [],
   "source": [
    "openCV_df = pd.DataFrame()"
   ]
  },
  {
   "cell_type": "markdown",
   "metadata": {},
   "source": [
    "##### N. of lines and words (for each session) are the first two feature added in the df"
   ]
  },
  {
   "cell_type": "code",
   "execution_count": 19,
   "metadata": {},
   "outputs": [
    {
     "data": {
      "text/html": [
       "<div>\n",
       "<style scoped>\n",
       "    .dataframe tbody tr th:only-of-type {\n",
       "        vertical-align: middle;\n",
       "    }\n",
       "\n",
       "    .dataframe tbody tr th {\n",
       "        vertical-align: top;\n",
       "    }\n",
       "\n",
       "    .dataframe thead th {\n",
       "        text-align: right;\n",
       "    }\n",
       "</style>\n",
       "<table border=\"1\" class=\"dataframe\">\n",
       "  <thead>\n",
       "    <tr style=\"text-align: right;\">\n",
       "      <th></th>\n",
       "      <th>lines</th>\n",
       "      <th>words</th>\n",
       "    </tr>\n",
       "  </thead>\n",
       "  <tbody>\n",
       "    <tr>\n",
       "      <th>0</th>\n",
       "      <td>8</td>\n",
       "      <td>44</td>\n",
       "    </tr>\n",
       "    <tr>\n",
       "      <th>1</th>\n",
       "      <td>8</td>\n",
       "      <td>38</td>\n",
       "    </tr>\n",
       "    <tr>\n",
       "      <th>2</th>\n",
       "      <td>8</td>\n",
       "      <td>39</td>\n",
       "    </tr>\n",
       "    <tr>\n",
       "      <th>3</th>\n",
       "      <td>8</td>\n",
       "      <td>32</td>\n",
       "    </tr>\n",
       "    <tr>\n",
       "      <th>4</th>\n",
       "      <td>8</td>\n",
       "      <td>38</td>\n",
       "    </tr>\n",
       "    <tr>\n",
       "      <th>...</th>\n",
       "      <td>...</td>\n",
       "      <td>...</td>\n",
       "    </tr>\n",
       "    <tr>\n",
       "      <th>115</th>\n",
       "      <td>8</td>\n",
       "      <td>27</td>\n",
       "    </tr>\n",
       "    <tr>\n",
       "      <th>116</th>\n",
       "      <td>8</td>\n",
       "      <td>35</td>\n",
       "    </tr>\n",
       "    <tr>\n",
       "      <th>117</th>\n",
       "      <td>8</td>\n",
       "      <td>38</td>\n",
       "    </tr>\n",
       "    <tr>\n",
       "      <th>118</th>\n",
       "      <td>8</td>\n",
       "      <td>41</td>\n",
       "    </tr>\n",
       "    <tr>\n",
       "      <th>119</th>\n",
       "      <td>8</td>\n",
       "      <td>29</td>\n",
       "    </tr>\n",
       "  </tbody>\n",
       "</table>\n",
       "<p>120 rows × 2 columns</p>\n",
       "</div>"
      ],
      "text/plain": [
       "     lines  words\n",
       "0        8     44\n",
       "1        8     38\n",
       "2        8     39\n",
       "3        8     32\n",
       "4        8     38\n",
       "..     ...    ...\n",
       "115      8     27\n",
       "116      8     35\n",
       "117      8     38\n",
       "118      8     41\n",
       "119      8     29\n",
       "\n",
       "[120 rows x 2 columns]"
      ]
     },
     "execution_count": 19,
     "metadata": {},
     "output_type": "execute_result"
    }
   ],
   "source": [
    "openCV_df[\"lines\"] = sessionLines\n",
    "openCV_df[\"words\"] = sessionWords\n",
    "openCV_df"
   ]
  },
  {
   "cell_type": "markdown",
   "metadata": {},
   "source": [
    "#### Adding line features previously found"
   ]
  },
  {
   "cell_type": "code",
   "execution_count": 20,
   "metadata": {},
   "outputs": [
    {
     "data": {
      "text/html": [
       "<div>\n",
       "<style scoped>\n",
       "    .dataframe tbody tr th:only-of-type {\n",
       "        vertical-align: middle;\n",
       "    }\n",
       "\n",
       "    .dataframe tbody tr th {\n",
       "        vertical-align: top;\n",
       "    }\n",
       "\n",
       "    .dataframe thead th {\n",
       "        text-align: right;\n",
       "    }\n",
       "</style>\n",
       "<table border=\"1\" class=\"dataframe\">\n",
       "  <thead>\n",
       "    <tr style=\"text-align: right;\">\n",
       "      <th></th>\n",
       "      <th>lines</th>\n",
       "      <th>words</th>\n",
       "      <th>meanWordHeightLine1</th>\n",
       "      <th>stdWordHeightLine1</th>\n",
       "      <th>meanWordWidthLine1</th>\n",
       "      <th>stdWordWidthLine1</th>\n",
       "      <th>meanYLineTrendLine1</th>\n",
       "      <th>stdYLineTrendLine1</th>\n",
       "      <th>meanWordDistanceLine1</th>\n",
       "      <th>stdWordDistanceLine1</th>\n",
       "      <th>...</th>\n",
       "      <th>overlappedWordLine3</th>\n",
       "      <th>overlappedWordLine4</th>\n",
       "      <th>overlappedWordLine5</th>\n",
       "      <th>overlappedWordLine6</th>\n",
       "      <th>overlappedWordLine7</th>\n",
       "      <th>overlappedWordLine8</th>\n",
       "      <th>meanPosXLineStart</th>\n",
       "      <th>stdPosXLineStart</th>\n",
       "      <th>meanLineDistance</th>\n",
       "      <th>stdLineDistance</th>\n",
       "    </tr>\n",
       "  </thead>\n",
       "  <tbody>\n",
       "    <tr>\n",
       "      <th>0</th>\n",
       "      <td>8</td>\n",
       "      <td>44</td>\n",
       "      <td>37.500000</td>\n",
       "      <td>2.217356</td>\n",
       "      <td>34.333333</td>\n",
       "      <td>1.972027</td>\n",
       "      <td>156.500000</td>\n",
       "      <td>2.929733</td>\n",
       "      <td>1.0</td>\n",
       "      <td>1.095445</td>\n",
       "      <td>...</td>\n",
       "      <td>0</td>\n",
       "      <td>0</td>\n",
       "      <td>0</td>\n",
       "      <td>0</td>\n",
       "      <td>0</td>\n",
       "      <td>0</td>\n",
       "      <td>338.211538</td>\n",
       "      <td>167.983554</td>\n",
       "      <td>138.571429</td>\n",
       "      <td>9.393876</td>\n",
       "    </tr>\n",
       "    <tr>\n",
       "      <th>1</th>\n",
       "      <td>8</td>\n",
       "      <td>38</td>\n",
       "      <td>35.166667</td>\n",
       "      <td>4.669642</td>\n",
       "      <td>41.833333</td>\n",
       "      <td>10.122856</td>\n",
       "      <td>158.333333</td>\n",
       "      <td>3.299832</td>\n",
       "      <td>-0.6</td>\n",
       "      <td>3.261901</td>\n",
       "      <td>...</td>\n",
       "      <td>0</td>\n",
       "      <td>0</td>\n",
       "      <td>0</td>\n",
       "      <td>0</td>\n",
       "      <td>0</td>\n",
       "      <td>0</td>\n",
       "      <td>316.869565</td>\n",
       "      <td>163.493732</td>\n",
       "      <td>132.428571</td>\n",
       "      <td>3.539860</td>\n",
       "    </tr>\n",
       "    <tr>\n",
       "      <th>2</th>\n",
       "      <td>8</td>\n",
       "      <td>39</td>\n",
       "      <td>36.500000</td>\n",
       "      <td>2.291288</td>\n",
       "      <td>38.833333</td>\n",
       "      <td>2.910708</td>\n",
       "      <td>154.666667</td>\n",
       "      <td>1.699673</td>\n",
       "      <td>15.4</td>\n",
       "      <td>5.276362</td>\n",
       "      <td>...</td>\n",
       "      <td>0</td>\n",
       "      <td>0</td>\n",
       "      <td>0</td>\n",
       "      <td>0</td>\n",
       "      <td>0</td>\n",
       "      <td>1</td>\n",
       "      <td>350.446809</td>\n",
       "      <td>171.881801</td>\n",
       "      <td>142.571429</td>\n",
       "      <td>13.318699</td>\n",
       "    </tr>\n",
       "    <tr>\n",
       "      <th>3</th>\n",
       "      <td>8</td>\n",
       "      <td>32</td>\n",
       "      <td>47.166667</td>\n",
       "      <td>3.387067</td>\n",
       "      <td>41.500000</td>\n",
       "      <td>7.973916</td>\n",
       "      <td>158.500000</td>\n",
       "      <td>3.593976</td>\n",
       "      <td>0.0</td>\n",
       "      <td>2.828427</td>\n",
       "      <td>...</td>\n",
       "      <td>0</td>\n",
       "      <td>1</td>\n",
       "      <td>1</td>\n",
       "      <td>0</td>\n",
       "      <td>0</td>\n",
       "      <td>1</td>\n",
       "      <td>284.725000</td>\n",
       "      <td>144.690357</td>\n",
       "      <td>153.714286</td>\n",
       "      <td>9.315337</td>\n",
       "    </tr>\n",
       "    <tr>\n",
       "      <th>4</th>\n",
       "      <td>8</td>\n",
       "      <td>38</td>\n",
       "      <td>34.333333</td>\n",
       "      <td>3.349959</td>\n",
       "      <td>36.333333</td>\n",
       "      <td>5.249339</td>\n",
       "      <td>157.500000</td>\n",
       "      <td>2.629956</td>\n",
       "      <td>25.4</td>\n",
       "      <td>14.388885</td>\n",
       "      <td>...</td>\n",
       "      <td>0</td>\n",
       "      <td>0</td>\n",
       "      <td>0</td>\n",
       "      <td>0</td>\n",
       "      <td>0</td>\n",
       "      <td>1</td>\n",
       "      <td>335.543478</td>\n",
       "      <td>164.942507</td>\n",
       "      <td>136.000000</td>\n",
       "      <td>8.159132</td>\n",
       "    </tr>\n",
       "    <tr>\n",
       "      <th>...</th>\n",
       "      <td>...</td>\n",
       "      <td>...</td>\n",
       "      <td>...</td>\n",
       "      <td>...</td>\n",
       "      <td>...</td>\n",
       "      <td>...</td>\n",
       "      <td>...</td>\n",
       "      <td>...</td>\n",
       "      <td>...</td>\n",
       "      <td>...</td>\n",
       "      <td>...</td>\n",
       "      <td>...</td>\n",
       "      <td>...</td>\n",
       "      <td>...</td>\n",
       "      <td>...</td>\n",
       "      <td>...</td>\n",
       "      <td>...</td>\n",
       "      <td>...</td>\n",
       "      <td>...</td>\n",
       "      <td>...</td>\n",
       "      <td>...</td>\n",
       "    </tr>\n",
       "    <tr>\n",
       "      <th>115</th>\n",
       "      <td>8</td>\n",
       "      <td>27</td>\n",
       "      <td>38.333333</td>\n",
       "      <td>6.018490</td>\n",
       "      <td>76.000000</td>\n",
       "      <td>30.210373</td>\n",
       "      <td>161.333333</td>\n",
       "      <td>7.408704</td>\n",
       "      <td>-5.0</td>\n",
       "      <td>1.000000</td>\n",
       "      <td>...</td>\n",
       "      <td>1</td>\n",
       "      <td>1</td>\n",
       "      <td>1</td>\n",
       "      <td>1</td>\n",
       "      <td>1</td>\n",
       "      <td>1</td>\n",
       "      <td>294.314286</td>\n",
       "      <td>152.228545</td>\n",
       "      <td>141.285714</td>\n",
       "      <td>5.256677</td>\n",
       "    </tr>\n",
       "    <tr>\n",
       "      <th>116</th>\n",
       "      <td>8</td>\n",
       "      <td>35</td>\n",
       "      <td>32.666667</td>\n",
       "      <td>2.357023</td>\n",
       "      <td>33.333333</td>\n",
       "      <td>3.399346</td>\n",
       "      <td>155.666667</td>\n",
       "      <td>1.490712</td>\n",
       "      <td>8.8</td>\n",
       "      <td>4.621688</td>\n",
       "      <td>...</td>\n",
       "      <td>0</td>\n",
       "      <td>0</td>\n",
       "      <td>0</td>\n",
       "      <td>0</td>\n",
       "      <td>0</td>\n",
       "      <td>0</td>\n",
       "      <td>303.674419</td>\n",
       "      <td>149.368706</td>\n",
       "      <td>129.714286</td>\n",
       "      <td>3.057276</td>\n",
       "    </tr>\n",
       "    <tr>\n",
       "      <th>117</th>\n",
       "      <td>8</td>\n",
       "      <td>38</td>\n",
       "      <td>30.833333</td>\n",
       "      <td>1.771691</td>\n",
       "      <td>27.833333</td>\n",
       "      <td>2.034426</td>\n",
       "      <td>155.500000</td>\n",
       "      <td>1.892969</td>\n",
       "      <td>8.2</td>\n",
       "      <td>5.306600</td>\n",
       "      <td>...</td>\n",
       "      <td>0</td>\n",
       "      <td>0</td>\n",
       "      <td>0</td>\n",
       "      <td>0</td>\n",
       "      <td>0</td>\n",
       "      <td>0</td>\n",
       "      <td>306.586957</td>\n",
       "      <td>158.727491</td>\n",
       "      <td>127.000000</td>\n",
       "      <td>3.964125</td>\n",
       "    </tr>\n",
       "    <tr>\n",
       "      <th>118</th>\n",
       "      <td>8</td>\n",
       "      <td>41</td>\n",
       "      <td>38.000000</td>\n",
       "      <td>2.645751</td>\n",
       "      <td>33.666667</td>\n",
       "      <td>2.211083</td>\n",
       "      <td>158.000000</td>\n",
       "      <td>2.380476</td>\n",
       "      <td>14.8</td>\n",
       "      <td>3.709447</td>\n",
       "      <td>...</td>\n",
       "      <td>0</td>\n",
       "      <td>0</td>\n",
       "      <td>0</td>\n",
       "      <td>0</td>\n",
       "      <td>0</td>\n",
       "      <td>1</td>\n",
       "      <td>327.285714</td>\n",
       "      <td>161.471676</td>\n",
       "      <td>133.714286</td>\n",
       "      <td>2.249717</td>\n",
       "    </tr>\n",
       "    <tr>\n",
       "      <th>119</th>\n",
       "      <td>8</td>\n",
       "      <td>29</td>\n",
       "      <td>28.666667</td>\n",
       "      <td>0.942809</td>\n",
       "      <td>52.666667</td>\n",
       "      <td>15.691470</td>\n",
       "      <td>153.000000</td>\n",
       "      <td>0.000000</td>\n",
       "      <td>3.0</td>\n",
       "      <td>2.000000</td>\n",
       "      <td>...</td>\n",
       "      <td>0</td>\n",
       "      <td>0</td>\n",
       "      <td>0</td>\n",
       "      <td>0</td>\n",
       "      <td>0</td>\n",
       "      <td>0</td>\n",
       "      <td>321.351351</td>\n",
       "      <td>177.538000</td>\n",
       "      <td>127.857143</td>\n",
       "      <td>7.079721</td>\n",
       "    </tr>\n",
       "  </tbody>\n",
       "</table>\n",
       "<p>120 rows × 78 columns</p>\n",
       "</div>"
      ],
      "text/plain": [
       "     lines  words  meanWordHeightLine1  stdWordHeightLine1  \\\n",
       "0        8     44            37.500000            2.217356   \n",
       "1        8     38            35.166667            4.669642   \n",
       "2        8     39            36.500000            2.291288   \n",
       "3        8     32            47.166667            3.387067   \n",
       "4        8     38            34.333333            3.349959   \n",
       "..     ...    ...                  ...                 ...   \n",
       "115      8     27            38.333333            6.018490   \n",
       "116      8     35            32.666667            2.357023   \n",
       "117      8     38            30.833333            1.771691   \n",
       "118      8     41            38.000000            2.645751   \n",
       "119      8     29            28.666667            0.942809   \n",
       "\n",
       "     meanWordWidthLine1  stdWordWidthLine1  meanYLineTrendLine1  \\\n",
       "0             34.333333           1.972027           156.500000   \n",
       "1             41.833333          10.122856           158.333333   \n",
       "2             38.833333           2.910708           154.666667   \n",
       "3             41.500000           7.973916           158.500000   \n",
       "4             36.333333           5.249339           157.500000   \n",
       "..                  ...                ...                  ...   \n",
       "115           76.000000          30.210373           161.333333   \n",
       "116           33.333333           3.399346           155.666667   \n",
       "117           27.833333           2.034426           155.500000   \n",
       "118           33.666667           2.211083           158.000000   \n",
       "119           52.666667          15.691470           153.000000   \n",
       "\n",
       "     stdYLineTrendLine1  meanWordDistanceLine1  stdWordDistanceLine1  ...  \\\n",
       "0              2.929733                    1.0              1.095445  ...   \n",
       "1              3.299832                   -0.6              3.261901  ...   \n",
       "2              1.699673                   15.4              5.276362  ...   \n",
       "3              3.593976                    0.0              2.828427  ...   \n",
       "4              2.629956                   25.4             14.388885  ...   \n",
       "..                  ...                    ...                   ...  ...   \n",
       "115            7.408704                   -5.0              1.000000  ...   \n",
       "116            1.490712                    8.8              4.621688  ...   \n",
       "117            1.892969                    8.2              5.306600  ...   \n",
       "118            2.380476                   14.8              3.709447  ...   \n",
       "119            0.000000                    3.0              2.000000  ...   \n",
       "\n",
       "     overlappedWordLine3  overlappedWordLine4  overlappedWordLine5  \\\n",
       "0                      0                    0                    0   \n",
       "1                      0                    0                    0   \n",
       "2                      0                    0                    0   \n",
       "3                      0                    1                    1   \n",
       "4                      0                    0                    0   \n",
       "..                   ...                  ...                  ...   \n",
       "115                    1                    1                    1   \n",
       "116                    0                    0                    0   \n",
       "117                    0                    0                    0   \n",
       "118                    0                    0                    0   \n",
       "119                    0                    0                    0   \n",
       "\n",
       "     overlappedWordLine6  overlappedWordLine7  overlappedWordLine8  \\\n",
       "0                      0                    0                    0   \n",
       "1                      0                    0                    0   \n",
       "2                      0                    0                    1   \n",
       "3                      0                    0                    1   \n",
       "4                      0                    0                    1   \n",
       "..                   ...                  ...                  ...   \n",
       "115                    1                    1                    1   \n",
       "116                    0                    0                    0   \n",
       "117                    0                    0                    0   \n",
       "118                    0                    0                    1   \n",
       "119                    0                    0                    0   \n",
       "\n",
       "     meanPosXLineStart  stdPosXLineStart  meanLineDistance  stdLineDistance  \n",
       "0           338.211538        167.983554        138.571429         9.393876  \n",
       "1           316.869565        163.493732        132.428571         3.539860  \n",
       "2           350.446809        171.881801        142.571429        13.318699  \n",
       "3           284.725000        144.690357        153.714286         9.315337  \n",
       "4           335.543478        164.942507        136.000000         8.159132  \n",
       "..                 ...               ...               ...              ...  \n",
       "115         294.314286        152.228545        141.285714         5.256677  \n",
       "116         303.674419        149.368706        129.714286         3.057276  \n",
       "117         306.586957        158.727491        127.000000         3.964125  \n",
       "118         327.285714        161.471676        133.714286         2.249717  \n",
       "119         321.351351        177.538000        127.857143         7.079721  \n",
       "\n",
       "[120 rows x 78 columns]"
      ]
     },
     "execution_count": 20,
     "metadata": {},
     "output_type": "execute_result"
    }
   ],
   "source": [
    "addLineFeature(height, width, posX, posY, interX, interY, overlap, openCV_df)\n",
    "openCV_df"
   ]
  },
  {
   "cell_type": "code",
   "execution_count": 21,
   "metadata": {},
   "outputs": [],
   "source": [
    "openCV_df.to_csv('OpenCVDatasets/openCVDataset.csv', index=False)"
   ]
  },
  {
   "cell_type": "markdown",
   "metadata": {},
   "source": [
    "## Data augmentation"
   ]
  },
  {
   "cell_type": "markdown",
   "metadata": {},
   "source": [
    "#### Translating images to create new datas"
   ]
  },
  {
   "cell_type": "code",
   "execution_count": 22,
   "metadata": {},
   "outputs": [],
   "source": [
    "for i in range(120):\n",
    "    imageTranslation(i, \"UpRight\", 50, -50)\n",
    "    imageTranslation(i, \"UpLeft\", -50, -50)\n",
    "    imageTranslation(i, \"DownRight\", 50, 50)\n",
    "    imageTranslation(i, \"DownLeft\", -50, 50)"
   ]
  },
  {
   "cell_type": "markdown",
   "metadata": {},
   "source": [
    "### Preprocessing and feature extraction from translated images"
   ]
  },
  {
   "cell_type": "markdown",
   "metadata": {},
   "source": [
    "#### UpLeft translation"
   ]
  },
  {
   "cell_type": "code",
   "execution_count": 23,
   "metadata": {},
   "outputs": [],
   "source": [
    " # Df to store every words in the dataset\n",
    "words_df = pd.DataFrame(columns=['Session','Line','wordAx','wordAy','wordBx','wordBy'])\n",
    "\n",
    "sessionLines  = []\n",
    "sessionWords = []\n",
    "\n",
    "#Final Features\n",
    "height = [[], [], [], [], [], [], [], []]\n",
    "width = [[], [], [], [], [], [], [], []]\n",
    "posX = []\n",
    "posY = [[], [], [], [], [], [], [], []]\n",
    "interX = [[], [], [], [], [], [], [], []]\n",
    "interY = []\n",
    "overlap = [[], [], [], [], [], [], [], []]\n",
    "\n",
    "for i in range(120):\n",
    "    img = cv2.imread(\"TranslatedPaintings/UpLeft/row\" + str(i) + \".png\")\n",
    "    img2 = img.copy()\n",
    "    sessionLines.append(lineSegmentation(img2))\n",
    "    img3 = img.copy()\n",
    "    sessionWords.append(textSegmentation(img3, i, words_df))\n",
    "    extractLineFeature(i, height, width, posX, posY, interX, interY, overlap, words_df)\n",
    "\n",
    "# Save updated dataset\n",
    "words_df.to_csv('WordsDatasets/wordsDatasetUpLeft.csv', index=False)"
   ]
  },
  {
   "cell_type": "code",
   "execution_count": 24,
   "metadata": {},
   "outputs": [],
   "source": [
    "openCV_df = pd.DataFrame()\n",
    "openCV_df[\"lines\"] = sessionLines\n",
    "openCV_df[\"words\"] = sessionWords\n",
    "addLineFeature(height, width, posX, posY, interX, interY, overlap, openCV_df)\n",
    "openCV_df.to_csv('OpenCVDatasets/openCVDatasetUpLeft.csv', index=False)"
   ]
  },
  {
   "cell_type": "markdown",
   "metadata": {},
   "source": [
    "#### UpRight translation"
   ]
  },
  {
   "cell_type": "code",
   "execution_count": 25,
   "metadata": {},
   "outputs": [],
   "source": [
    " # Df to store every words in the dataset\n",
    "words_df = pd.DataFrame(columns=['Session','Line','wordAx','wordAy','wordBx','wordBy'])\n",
    "\n",
    "sessionLines  = []\n",
    "sessionWords = []\n",
    "\n",
    "#Final Features\n",
    "height = [[], [], [], [], [], [], [], []]\n",
    "width = [[], [], [], [], [], [], [], []]\n",
    "posX = []\n",
    "posY = [[], [], [], [], [], [], [], []]\n",
    "interX = [[], [], [], [], [], [], [], []]\n",
    "interY = []\n",
    "overlap = [[], [], [], [], [], [], [], []]\n",
    "\n",
    "for i in range(120):\n",
    "    img = cv2.imread(\"TranslatedPaintings/UpRight/row\" + str(i) + \".png\")\n",
    "    img2 = img.copy()\n",
    "    sessionLines.append(lineSegmentation(img2))\n",
    "    img3 = img.copy()\n",
    "    sessionWords.append(textSegmentation(img3, i, words_df))\n",
    "    extractLineFeature(i, height, width, posX, posY, interX, interY, overlap, words_df)\n",
    "\n",
    "# Save updated dataset\n",
    "words_df.to_csv('WordsDatasets/wordsDatasetUpRight.csv', index=False)"
   ]
  },
  {
   "cell_type": "code",
   "execution_count": 26,
   "metadata": {},
   "outputs": [],
   "source": [
    "openCV_df = pd.DataFrame()\n",
    "openCV_df[\"lines\"] = sessionLines\n",
    "openCV_df[\"words\"] = sessionWords\n",
    "addLineFeature(height, width, posX, posY, interX, interY, overlap, openCV_df)\n",
    "openCV_df.to_csv('OpenCVDatasets/openCVDatasetUpRight.csv', index=False)"
   ]
  },
  {
   "cell_type": "markdown",
   "metadata": {},
   "source": [
    "#### DownLeft translation"
   ]
  },
  {
   "cell_type": "code",
   "execution_count": 27,
   "metadata": {},
   "outputs": [],
   "source": [
    " # Df to store every words in the dataset\n",
    "words_df = pd.DataFrame(columns=['Session','Line','wordAx','wordAy','wordBx','wordBy'])\n",
    "\n",
    "sessionLines  = []\n",
    "sessionWords = []\n",
    "\n",
    "#Final Features\n",
    "height = [[], [], [], [], [], [], [], []]\n",
    "width = [[], [], [], [], [], [], [], []]\n",
    "posX = []\n",
    "posY = [[], [], [], [], [], [], [], []]\n",
    "interX = [[], [], [], [], [], [], [], []]\n",
    "interY = []\n",
    "overlap = [[], [], [], [], [], [], [], []]\n",
    "\n",
    "for i in range(120):\n",
    "    img = cv2.imread(\"TranslatedPaintings/DownLeft/row\" + str(i) + \".png\")\n",
    "    img2 = img.copy()\n",
    "    sessionLines.append(lineSegmentation(img2))\n",
    "    img3 = img.copy()\n",
    "    sessionWords.append(textSegmentation(img3, i, words_df))\n",
    "    extractLineFeature(i, height, width, posX, posY, interX, interY, overlap, words_df)\n",
    "\n",
    "# Save updated dataset\n",
    "words_df.to_csv('WordsDatasets/wordsDatasetDownLeft.csv', index=False)"
   ]
  },
  {
   "cell_type": "code",
   "execution_count": 28,
   "metadata": {},
   "outputs": [],
   "source": [
    "openCV_df = pd.DataFrame()\n",
    "openCV_df[\"lines\"] = sessionLines\n",
    "openCV_df[\"words\"] = sessionWords\n",
    "addLineFeature(height, width, posX, posY, interX, interY, overlap, openCV_df)\n",
    "openCV_df.to_csv('OpenCVDatasets/openCVDatasetDownLeft.csv', index=False)"
   ]
  },
  {
   "cell_type": "markdown",
   "metadata": {},
   "source": [
    "#### DownRight translation"
   ]
  },
  {
   "cell_type": "code",
   "execution_count": 29,
   "metadata": {},
   "outputs": [],
   "source": [
    " # Df to store every words in the dataset\n",
    "words_df = pd.DataFrame(columns=['Session','Line','wordAx','wordAy','wordBx','wordBy'])\n",
    "\n",
    "sessionLines  = []\n",
    "sessionWords = []\n",
    "\n",
    "#Final Features\n",
    "height = [[], [], [], [], [], [], [], []]\n",
    "width = [[], [], [], [], [], [], [], []]\n",
    "posX = []\n",
    "posY = [[], [], [], [], [], [], [], []]\n",
    "interX = [[], [], [], [], [], [], [], []]\n",
    "interY = []\n",
    "overlap = [[], [], [], [], [], [], [], []]\n",
    "\n",
    "for i in range(120):\n",
    "    img = cv2.imread(\"TranslatedPaintings/DownRight/row\" + str(i) + \".png\")\n",
    "    img2 = img.copy()\n",
    "    sessionLines.append(lineSegmentation(img2))\n",
    "    img3 = img.copy()\n",
    "    sessionWords.append(textSegmentation(img3, i, words_df))\n",
    "    extractLineFeature(i, height, width, posX, posY, interX, interY, overlap, words_df)\n",
    "\n",
    "# Save updated dataset\n",
    "words_df.to_csv('WordsDatasets/wordsDatasetDownRight.csv', index=False)"
   ]
  },
  {
   "cell_type": "code",
   "execution_count": 30,
   "metadata": {},
   "outputs": [],
   "source": [
    "openCV_df = pd.DataFrame()\n",
    "openCV_df[\"lines\"] = sessionLines\n",
    "openCV_df[\"words\"] = sessionWords\n",
    "addLineFeature(height, width, posX, posY, interX, interY, overlap, openCV_df)\n",
    "openCV_df.to_csv('OpenCVDatasets/openCVDatasetDownRight.csv', index=False)"
   ]
  }
 ],
 "metadata": {
  "kernelspec": {
   "display_name": "Python 3.10.7 64-bit (microsoft store)",
   "language": "python",
   "name": "python3"
  },
  "language_info": {
   "codemirror_mode": {
    "name": "ipython",
    "version": 3
   },
   "file_extension": ".py",
   "mimetype": "text/x-python",
   "name": "python",
   "nbconvert_exporter": "python",
   "pygments_lexer": "ipython3",
   "version": "3.10.8"
  },
  "orig_nbformat": 4,
  "vscode": {
   "interpreter": {
    "hash": "624741679a3ae5d99cecf49b8df5d516a7a937e6e7328e129d1fa121c8592e26"
   }
  }
 },
 "nbformat": 4,
 "nbformat_minor": 2
}
